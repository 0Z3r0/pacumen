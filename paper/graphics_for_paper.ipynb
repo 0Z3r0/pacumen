{
 "metadata": {
  "name": "",
  "signature": "sha256:6fa72272e0e8ae7bfaefc7e30e11edd08d9d9c30480567bf417ddff59c3cd178"
 },
 "nbformat": 3,
 "nbformat_minor": 0,
 "worksheets": [
  {
   "cells": [
    {
     "cell_type": "code",
     "collapsed": false,
     "input": [
      "import scipy\n",
      "import numpy\n",
      "import matplotlib.pyplot as plt"
     ],
     "language": "python",
     "metadata": {},
     "outputs": [],
     "prompt_number": 13
    },
    {
     "cell_type": "code",
     "collapsed": false,
     "input": [
      "gaussian = numpy.random.normal(size=(100000,2))"
     ],
     "language": "python",
     "metadata": {},
     "outputs": [],
     "prompt_number": 27
    },
    {
     "cell_type": "code",
     "collapsed": false,
     "input": [
      "plt.hist2d(gaussian[:,0], gaussian[:,1], 40)\n",
      "None"
     ],
     "language": "python",
     "metadata": {},
     "outputs": [
      {
       "metadata": {},
       "output_type": "display_data",
       "png": "[encoded data removed]",
       "text": [
        "<matplotlib.figure.Figure at 0x7fc7a6eb6410>"
       ]
      }
     ],
     "prompt_number": 29
    },
    {
     "cell_type": "code",
     "collapsed": false,
     "input": [
      "mixer = numpy.random.random((2,2)) * 2 - 1\n",
      "mixer"
     ],
     "language": "python",
     "metadata": {},
     "outputs": [
      {
       "metadata": {},
       "output_type": "pyout",
       "prompt_number": 18,
       "text": [
        "array([[-0.66572767, -0.70518133],\n",
        "       [ 0.18379757,  0.47968464]])"
       ]
      }
     ],
     "prompt_number": 18
    },
    {
     "cell_type": "code",
     "collapsed": false,
     "input": [
      "mixed_gaussian = numpy.dot(mixer, gaussian.T).T"
     ],
     "language": "python",
     "metadata": {},
     "outputs": [],
     "prompt_number": 19
    },
    {
     "cell_type": "code",
     "collapsed": false,
     "input": [
      "plt.hist2d(mixed_gaussian[:,0], mixed_gaussian[:,1], 40)\n",
      "None"
     ],
     "language": "python",
     "metadata": {},
     "outputs": [
      {
       "metadata": {},
       "output_type": "display_data",
       "png": "[encoded data removed]",
       "text": [
        "<matplotlib.figure.Figure at 0x7fc7ac0a9750>"
       ]
      }
     ],
     "prompt_number": 31
    },
    {
     "cell_type": "markdown",
     "metadata": {},
     "source": [
      "$\n",
      "L = e^{-\\frac{1}{2} \\ln(|\\Sigma|) - \\frac{1}{2}(\\mathbf x - \\mathbf \\mu)^T \\Sigma^{-1}(\\mathbf x - \\mathbf \\mu) - \\frac{k}{2} \\ln(2 \\pi)}\n",
      "$"
     ]
    },
    {
     "cell_type": "code",
     "collapsed": false,
     "input": [
      "likelihood(x):\n",
      "    right_term = numpy.log(2 * numpy.pi)\n",
      "    icov = "
     ],
     "language": "python",
     "metadata": {},
     "outputs": [],
     "prompt_number": 31
    }
   ],
   "metadata": {}
  }
 ]
}